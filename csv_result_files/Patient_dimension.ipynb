{
 "cells": [
  {
   "cell_type": "code",
   "execution_count": 1,
   "metadata": {},
   "outputs": [],
   "source": [
    "import pandas as pd\n",
    "import numpy as np"
   ]
  },
  {
   "cell_type": "code",
   "execution_count": 2,
   "metadata": {},
   "outputs": [],
   "source": [
    "csv_source_file_path = 'csv_source_files/'\n",
    "source_cases = pd.read_csv(csv_source_file_path + '455fd63b-603d-4608-8216-7d8647f43350.csv')\n",
    "source_cases = source_cases[(source_cases['Reporting_PHU_City']=='Toronto') | \n",
    "                            (source_cases['Reporting_PHU_City']=='Ottawa') |\n",
    "                            (source_cases['Reporting_PHU_City']=='Whitby') |\n",
    "                            (source_cases['Reporting_PHU_City']=='Oakville') |\n",
    "                            (source_cases['Reporting_PHU_City']=='Mississauga') |\n",
    "                            (source_cases['Reporting_PHU_City']=='Newmarket')]\n",
    "source_cases['Case_Reported_Date'] = pd.to_datetime(source_cases['Case_Reported_Date']).dt.strftime('%Y-%m-%d')\n",
    "source_cases = source_cases[ (source_cases['Case_Reported_Date']>'2020-10-31') & (source_cases['Case_Reported_Date']<'2021-03-01') ]"
   ]
  },
  {
   "cell_type": "code",
   "execution_count": 3,
   "metadata": {
    "scrolled": false
   },
   "outputs": [],
   "source": [
    "#data quality control\n",
    "source_cases.dropna(subset=['Accurate_Episode_Date','Case_Reported_Date','Test_Reported_Date','Specimen_Date'])\n",
    "source_cases['Outbreak_Related'] = source_cases['Outbreak_Related'].map(lambda x: True if (x==\"Yes\") else False)\n",
    "\n",
    "source_patient = source_cases[['_id','Client_Gender','Age_Group','Case_AcquisitionInfo','Outbreak_Related']]\n",
    "source_patient = source_patient.rename(columns={'_id': 'id','Client_Gender':'Gender','Case_AcquisitionInfo':'Acquisition_group','Outbreak_Related':'Outbreak_related'})"
   ]
  },
  {
   "cell_type": "code",
   "execution_count": 4,
   "metadata": {},
   "outputs": [
    {
     "data": {
      "text/html": [
       "<div>\n",
       "<style scoped>\n",
       "    .dataframe tbody tr th:only-of-type {\n",
       "        vertical-align: middle;\n",
       "    }\n",
       "\n",
       "    .dataframe tbody tr th {\n",
       "        vertical-align: top;\n",
       "    }\n",
       "\n",
       "    .dataframe thead th {\n",
       "        text-align: right;\n",
       "    }\n",
       "</style>\n",
       "<table border=\"1\" class=\"dataframe\">\n",
       "  <thead>\n",
       "    <tr style=\"text-align: right;\">\n",
       "      <th></th>\n",
       "      <th>Patient_key</th>\n",
       "      <th>id</th>\n",
       "      <th>Gender</th>\n",
       "      <th>Age_Group</th>\n",
       "      <th>Acquisition_group</th>\n",
       "      <th>Outbreak_related</th>\n",
       "    </tr>\n",
       "  </thead>\n",
       "  <tbody>\n",
       "    <tr>\n",
       "      <th>418</th>\n",
       "      <td>0</td>\n",
       "      <td>419</td>\n",
       "      <td>FEMALE</td>\n",
       "      <td>80s</td>\n",
       "      <td>CC</td>\n",
       "      <td>False</td>\n",
       "    </tr>\n",
       "    <tr>\n",
       "      <th>419</th>\n",
       "      <td>1</td>\n",
       "      <td>420</td>\n",
       "      <td>FEMALE</td>\n",
       "      <td>&lt;20</td>\n",
       "      <td>CC</td>\n",
       "      <td>False</td>\n",
       "    </tr>\n",
       "    <tr>\n",
       "      <th>421</th>\n",
       "      <td>2</td>\n",
       "      <td>422</td>\n",
       "      <td>MALE</td>\n",
       "      <td>20s</td>\n",
       "      <td>NO KNOWN EPI LINK</td>\n",
       "      <td>False</td>\n",
       "    </tr>\n",
       "    <tr>\n",
       "      <th>422</th>\n",
       "      <td>3</td>\n",
       "      <td>423</td>\n",
       "      <td>FEMALE</td>\n",
       "      <td>30s</td>\n",
       "      <td>CC</td>\n",
       "      <td>False</td>\n",
       "    </tr>\n",
       "    <tr>\n",
       "      <th>424</th>\n",
       "      <td>4</td>\n",
       "      <td>425</td>\n",
       "      <td>FEMALE</td>\n",
       "      <td>30s</td>\n",
       "      <td>CC</td>\n",
       "      <td>False</td>\n",
       "    </tr>\n",
       "  </tbody>\n",
       "</table>\n",
       "</div>"
      ],
      "text/plain": [
       "     Patient_key   id  Gender Age_Group  Acquisition_group  Outbreak_related\n",
       "418            0  419  FEMALE       80s                 CC             False\n",
       "419            1  420  FEMALE       <20                 CC             False\n",
       "421            2  422    MALE       20s  NO KNOWN EPI LINK             False\n",
       "422            3  423  FEMALE       30s                 CC             False\n",
       "424            4  425  FEMALE       30s                 CC             False"
      ]
     },
     "execution_count": 4,
     "metadata": {},
     "output_type": "execute_result"
    }
   ],
   "source": [
    "source_patient.insert(0,'Patient_key',np.arange(len(source_cases)))\n",
    "source_patient.head()"
   ]
  },
  {
   "cell_type": "code",
   "execution_count": 5,
   "metadata": {},
   "outputs": [],
   "source": [
    "csv_result_file_path = 'csv_result_files/'\n",
    "source_patient.to_csv(csv_result_file_path + 'Patient_dimension.csv',index=False)"
   ]
  },
  {
   "cell_type": "code",
   "execution_count": null,
   "metadata": {},
   "outputs": [],
   "source": []
  }
 ],
 "metadata": {
  "kernelspec": {
   "display_name": "Python 3",
   "language": "python",
   "name": "python3"
  },
  "language_info": {
   "codemirror_mode": {
    "name": "ipython",
    "version": 3
   },
   "file_extension": ".py",
   "mimetype": "text/x-python",
   "name": "python",
   "nbconvert_exporter": "python",
   "pygments_lexer": "ipython3",
   "version": "3.8.5"
  }
 },
 "nbformat": 4,
 "nbformat_minor": 4
}
