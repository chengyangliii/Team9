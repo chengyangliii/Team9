{
 "cells": [
  {
   "cell_type": "code",
   "execution_count": 1,
   "metadata": {},
   "outputs": [],
   "source": [
    "import pandas as pd\n",
    "import numpy as np"
   ]
  },
  {
   "cell_type": "code",
   "execution_count": 2,
   "metadata": {},
   "outputs": [],
   "source": [
    "csv_source_file_path = 'csv_source_files/'\n",
    "source_cases = pd.read_csv(csv_source_file_path + '455fd63b-603d-4608-8216-7d8647f43350.csv')\n",
    "source_cases = source_cases[(source_cases['Reporting_PHU_City']=='Toronto') | \n",
    "                            (source_cases['Reporting_PHU_City']=='Ottawa') |\n",
    "                            (source_cases['Reporting_PHU_City']=='Whitby') |\n",
    "                            (source_cases['Reporting_PHU_City']=='Oakville') |\n",
    "                            (source_cases['Reporting_PHU_City']=='Mississauga') |\n",
    "                            (source_cases['Reporting_PHU_City']=='Newmarket')]\n",
    "source_cases['Case_Reported_Date'] = pd.to_datetime(source_cases['Case_Reported_Date']).dt.strftime('%Y-%m-%d')\n",
    "source_cases = source_cases[ (source_cases['Case_Reported_Date']>'2020-10-31') & (source_cases['Case_Reported_Date']<'2021-03-01') ]"
   ]
  },
  {
   "cell_type": "code",
   "execution_count": 3,
   "metadata": {},
   "outputs": [],
   "source": [
    "source_PHU = source_cases[['Reporting_PHU_ID','Reporting_PHU','Reporting_PHU_Address','Reporting_PHU_City','Reporting_PHU_Postal_Code','Reporting_PHU_Website','Reporting_PHU_Latitude','Reporting_PHU_Longitude']]\n",
    "source_PHU = source_PHU.rename(columns={'Reporting_PHU_ID':'ID','Reporting_PHU' : 'PHU_name','Reporting_PHU_Address' : 'Address','Reporting_PHU_City': 'City','Reporting_PHU_Postal_Code' : 'Postal_Code','Reporting_PHU_Website' : 'URL','Reporting_PHU_Latitude' : 'Latitude','Reporting_PHU_Longitude' : 'Longitude'})\n",
    "source_PHU.insert(5, \"Province\", 'Ontario', True)"
   ]
  },
  {
   "cell_type": "code",
   "execution_count": 4,
   "metadata": {},
   "outputs": [],
   "source": [
    "source_PHU = source_PHU.drop_duplicates(subset=['ID'], keep='last')"
   ]
  },
  {
   "cell_type": "code",
   "execution_count": 5,
   "metadata": {},
   "outputs": [
    {
     "data": {
      "text/html": [
       "<div>\n",
       "<style scoped>\n",
       "    .dataframe tbody tr th:only-of-type {\n",
       "        vertical-align: middle;\n",
       "    }\n",
       "\n",
       "    .dataframe tbody tr th {\n",
       "        vertical-align: top;\n",
       "    }\n",
       "\n",
       "    .dataframe thead th {\n",
       "        text-align: right;\n",
       "    }\n",
       "</style>\n",
       "<table border=\"1\" class=\"dataframe\">\n",
       "  <thead>\n",
       "    <tr style=\"text-align: right;\">\n",
       "      <th></th>\n",
       "      <th>PHU_Location_key</th>\n",
       "      <th>ID</th>\n",
       "      <th>PHU_name</th>\n",
       "      <th>Address</th>\n",
       "      <th>City</th>\n",
       "      <th>Postal_Code</th>\n",
       "      <th>Province</th>\n",
       "      <th>URL</th>\n",
       "      <th>Latitude</th>\n",
       "      <th>Longitude</th>\n",
       "    </tr>\n",
       "  </thead>\n",
       "  <tbody>\n",
       "    <tr>\n",
       "      <th>308382</th>\n",
       "      <td>0</td>\n",
       "      <td>2236</td>\n",
       "      <td>Halton Region Health Department</td>\n",
       "      <td>1151 Bronte Road</td>\n",
       "      <td>Oakville</td>\n",
       "      <td>L6M 3Ll</td>\n",
       "      <td>Ontario</td>\n",
       "      <td>www.halton.ca/For-Residents/Public-Health/</td>\n",
       "      <td>43.413997</td>\n",
       "      <td>-79.744796</td>\n",
       "    </tr>\n",
       "    <tr>\n",
       "      <th>308408</th>\n",
       "      <td>1</td>\n",
       "      <td>2251</td>\n",
       "      <td>Ottawa Public Health</td>\n",
       "      <td>100 Constellation Drive</td>\n",
       "      <td>Ottawa</td>\n",
       "      <td>K2G 6J8</td>\n",
       "      <td>Ontario</td>\n",
       "      <td>www.ottawapublichealth.ca</td>\n",
       "      <td>45.345665</td>\n",
       "      <td>-75.763912</td>\n",
       "    </tr>\n",
       "    <tr>\n",
       "      <th>308803</th>\n",
       "      <td>2</td>\n",
       "      <td>2253</td>\n",
       "      <td>Peel Public Health</td>\n",
       "      <td>7120 Hurontario Street</td>\n",
       "      <td>Mississauga</td>\n",
       "      <td>L5W 1N4</td>\n",
       "      <td>Ontario</td>\n",
       "      <td>www.peelregion.ca/health/</td>\n",
       "      <td>43.647471</td>\n",
       "      <td>-79.708893</td>\n",
       "    </tr>\n",
       "    <tr>\n",
       "      <th>308807</th>\n",
       "      <td>3</td>\n",
       "      <td>2230</td>\n",
       "      <td>Durham Region Health Department</td>\n",
       "      <td>605 Rossland Road East</td>\n",
       "      <td>Whitby</td>\n",
       "      <td>L1N 0B2</td>\n",
       "      <td>Ontario</td>\n",
       "      <td>www.durham.ca/en/health-and-wellness/health-an...</td>\n",
       "      <td>43.898605</td>\n",
       "      <td>-78.940341</td>\n",
       "    </tr>\n",
       "    <tr>\n",
       "      <th>308808</th>\n",
       "      <td>4</td>\n",
       "      <td>2270</td>\n",
       "      <td>York Region Public Health Services</td>\n",
       "      <td>17250 Yonge Street</td>\n",
       "      <td>Newmarket</td>\n",
       "      <td>L3Y 6Z1</td>\n",
       "      <td>Ontario</td>\n",
       "      <td>www.york.ca/wps/portal/yorkhome/health/</td>\n",
       "      <td>44.048023</td>\n",
       "      <td>-79.480239</td>\n",
       "    </tr>\n",
       "  </tbody>\n",
       "</table>\n",
       "</div>"
      ],
      "text/plain": [
       "        PHU_Location_key    ID                            PHU_name  \\\n",
       "308382                 0  2236     Halton Region Health Department   \n",
       "308408                 1  2251                Ottawa Public Health   \n",
       "308803                 2  2253                  Peel Public Health   \n",
       "308807                 3  2230     Durham Region Health Department   \n",
       "308808                 4  2270  York Region Public Health Services   \n",
       "\n",
       "                        Address         City Postal_Code Province  \\\n",
       "308382         1151 Bronte Road     Oakville     L6M 3Ll  Ontario   \n",
       "308408  100 Constellation Drive       Ottawa     K2G 6J8  Ontario   \n",
       "308803   7120 Hurontario Street  Mississauga     L5W 1N4  Ontario   \n",
       "308807   605 Rossland Road East       Whitby     L1N 0B2  Ontario   \n",
       "308808       17250 Yonge Street    Newmarket     L3Y 6Z1  Ontario   \n",
       "\n",
       "                                                      URL   Latitude  \\\n",
       "308382        www.halton.ca/For-Residents/Public-Health/   43.413997   \n",
       "308408                          www.ottawapublichealth.ca  45.345665   \n",
       "308803                          www.peelregion.ca/health/  43.647471   \n",
       "308807  www.durham.ca/en/health-and-wellness/health-an...  43.898605   \n",
       "308808           www.york.ca/wps/portal/yorkhome/health/   44.048023   \n",
       "\n",
       "        Longitude  \n",
       "308382 -79.744796  \n",
       "308408 -75.763912  \n",
       "308803 -79.708893  \n",
       "308807 -78.940341  \n",
       "308808 -79.480239  "
      ]
     },
     "execution_count": 5,
     "metadata": {},
     "output_type": "execute_result"
    }
   ],
   "source": [
    "source_PHU.insert(0,'PHU_Location_key',np.arange(len(source_PHU)))\n",
    "source_PHU.head()"
   ]
  },
  {
   "cell_type": "code",
   "execution_count": 6,
   "metadata": {},
   "outputs": [],
   "source": [
    "csv_result_file_path = 'csv_result_files/'\n",
    "source_PHU.to_csv(csv_result_file_path + 'PHU_Location_dimension.csv',index=False)"
   ]
  },
  {
   "cell_type": "code",
   "execution_count": null,
   "metadata": {},
   "outputs": [],
   "source": []
  }
 ],
 "metadata": {
  "kernelspec": {
   "display_name": "Python 3",
   "language": "python",
   "name": "python3"
  },
  "language_info": {
   "codemirror_mode": {
    "name": "ipython",
    "version": 3
   },
   "file_extension": ".py",
   "mimetype": "text/x-python",
   "name": "python",
   "nbconvert_exporter": "python",
   "pygments_lexer": "ipython3",
   "version": "3.8.5"
  }
 },
 "nbformat": 4,
 "nbformat_minor": 4
}
